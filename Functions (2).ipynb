{
  "nbformat": 4,
  "nbformat_minor": 0,
  "metadata": {
    "colab": {
      "provenance": []
    },
    "kernelspec": {
      "name": "python3",
      "display_name": "Python 3"
    },
    "language_info": {
      "name": "python"
    }
  },
  "cells": [
    {
      "cell_type": "code",
      "execution_count": null,
      "metadata": {
        "id": "LE_y8-JLufgR"
      },
      "outputs": [],
      "source": []
    },
    {
      "cell_type": "markdown",
      "source": [
        "**Theory Questions:**"
      ],
      "metadata": {
        "id": "OtXl8K1NvIBl"
      }
    },
    {
      "cell_type": "markdown",
      "source": [
        "**Q1. What is the difference between a function and a method in Python?**"
      ],
      "metadata": {
        "id": "HbefAfDWvOJb"
      }
    },
    {
      "cell_type": "markdown",
      "source": [
        "Ans:A function is a block of code that is defined using the def keyword and can be called independently. It doesn't belong to any specific object or class.\n",
        "\n",
        "A method is a function that is associated with an object and is called on that object. It is defined within a class and operates on the object that it is called on."
      ],
      "metadata": {
        "id": "oUK94-lQvVQF"
      }
    },
    {
      "cell_type": "code",
      "source": [
        "def greet(name):\n",
        "    return f\"Hello, {name}!\"\n",
        "\n",
        "print(greet(\"Jarin\"))"
      ],
      "metadata": {
        "colab": {
          "base_uri": "https://localhost:8080/"
        },
        "id": "BoamIgNFvknY",
        "outputId": "1429bc11-a569-4c8e-a7ed-061e4069c119"
      },
      "execution_count": null,
      "outputs": [
        {
          "output_type": "stream",
          "name": "stdout",
          "text": [
            "Hello, Jarin!\n"
          ]
        }
      ]
    },
    {
      "cell_type": "code",
      "source": [
        "#example of method\n",
        "class Person:\n",
        "    def __init__(self, name):\n",
        "        self.name = name\n",
        "\n",
        "    def greet(self):\n",
        "        return f\"Hello, {self.name}!\"\n",
        "\n",
        "p = Person(\"Jarin\")\n",
        "print(p.greet())"
      ],
      "metadata": {
        "colab": {
          "base_uri": "https://localhost:8080/"
        },
        "id": "7M-iunZlv8a_",
        "outputId": "9555f7a7-bdb9-4e73-8aed-67dcbf640bbf"
      },
      "execution_count": null,
      "outputs": [
        {
          "output_type": "stream",
          "name": "stdout",
          "text": [
            "Hello, Jarin!\n"
          ]
        }
      ]
    },
    {
      "cell_type": "markdown",
      "source": [
        "**Q2. Explain the concept of function arguments and parameters in Python.**"
      ],
      "metadata": {
        "id": "YHTTZvjdP_kV"
      }
    },
    {
      "cell_type": "markdown",
      "source": [
        "Ans:Parameters are the variables listed in the function definition (e.g., name, age in def greet(name, age):).\n",
        "Arguments are the actual values you pass to the function when you call it (e.g., \"Jarin\", 25 in greet(\"Jarin\", 25))."
      ],
      "metadata": {
        "id": "p57qFUvmQWBJ"
      }
    },
    {
      "cell_type": "code",
      "source": [
        "def greet(name, age):  # Parameters\n",
        "    print(f\"Hello, {name}! You are {age} years old.\")\n",
        "\n",
        "greet(\"Jarin\", 25)  # Arguments\n"
      ],
      "metadata": {
        "colab": {
          "base_uri": "https://localhost:8080/"
        },
        "id": "W77pFAziQ31I",
        "outputId": "f805a400-64e0-445a-e0d1-f07a3fe42eef"
      },
      "execution_count": null,
      "outputs": [
        {
          "output_type": "stream",
          "name": "stdout",
          "text": [
            "Hello, Jarin! You are 25 years old.\n"
          ]
        }
      ]
    },
    {
      "cell_type": "markdown",
      "source": [
        "**Q3. What are the different ways to define and call a function in Python?**"
      ],
      "metadata": {
        "id": "IwdYMBO8RI8Y"
      }
    },
    {
      "cell_type": "markdown",
      "source": [
        "Ans:Ways to define and call a function:\n",
        "\n",
        "### 1. **Basic Function**\n",
        "Define: `def greet(name):`\n",
        "Call: `greet(\"Jarin\")`\n",
        "\n",
        "### 2. **Function with Return Value**\n",
        "Define: `def add(a, b): return a + b`\n",
        "Call: `result = add(3, 5)`\n",
        "\n",
        "### 3. **Function with Default Arguments**\n",
        "Define: `def greet(name, age=25):`\n",
        "Call: `greet(\"Jarin\")` (uses default age)\n",
        "\n",
        "### 4. **Function with Keyword Arguments**\n",
        "Define: `def greet(name, age):`\n",
        "Call: `greet(age=25, name=\"Wahid\")`\n",
        "\n",
        "### 5. **Lambda Function (Anonymous Function)**\n",
        "Define and Call: `add = lambda a, b: a + b`  \n",
        "`result = add(4, 6)`\n",
        "\n",
        "### 6. **Function with Variable Length Arguments**\n",
        "Define with `*args`: `def add_numbers(*args):`\n",
        "Call: `add_numbers(1, 2, 3)`\n",
        "\n",
        "Define with `**kwargs`: `def print_info(**kwargs):`\n",
        "Call: `print_info(name=\"Pinky\", age=30)`"
      ],
      "metadata": {
        "id": "45Su5mZlROAj"
      }
    },
    {
      "cell_type": "code",
      "source": [
        "#example\n",
        "# Function definition\n",
        "def greet(name, age):\n",
        "    print(f\"Hello, {name}! You are {age} years old.\")\n",
        "\n",
        "# Function call with keyword arguments\n",
        "greet(age=25, name=\"Charlie\")\n"
      ],
      "metadata": {
        "colab": {
          "base_uri": "https://localhost:8080/"
        },
        "id": "FWb7LgQ3R9zm",
        "outputId": "94ccb0a4-1083-49e5-9fa7-46efbb6ae123"
      },
      "execution_count": null,
      "outputs": [
        {
          "output_type": "stream",
          "name": "stdout",
          "text": [
            "Hello, Charlie! You are 25 years old.\n"
          ]
        }
      ]
    },
    {
      "cell_type": "markdown",
      "source": [
        "**Q4. What is the purpose of the `return` statement in a Python function?**"
      ],
      "metadata": {
        "id": "8EtdIzJ9SKz8"
      }
    },
    {
      "cell_type": "markdown",
      "source": [
        "Ans:The return statement in a Python function is used to send a result back to the caller and exit the function. It allows the function to output a value, which can be assigned to a variable or used in further calculations.\n",
        "\n",
        "Purpose of return:\n",
        "It ends the function execution.\n",
        "It returns a value to the place where the function was called.\n",
        "If there is no return statement, the function returns None by default."
      ],
      "metadata": {
        "id": "xXyYZctzUh_H"
      }
    },
    {
      "cell_type": "code",
      "source": [
        "# Function definition with return\n",
        "def add(a, b):\n",
        "    return a + b\n",
        "\n",
        "# Function call and using the returned value\n",
        "result = add(3, 5)\n",
        "print(result)\n"
      ],
      "metadata": {
        "colab": {
          "base_uri": "https://localhost:8080/"
        },
        "id": "im4kZuT_UvaZ",
        "outputId": "ac495c5e-6586-47fb-ec4b-eeddded7938a"
      },
      "execution_count": null,
      "outputs": [
        {
          "output_type": "stream",
          "name": "stdout",
          "text": [
            "8\n"
          ]
        }
      ]
    },
    {
      "cell_type": "markdown",
      "source": [
        "**Q5.What are iterators in Python and how do they differ from iterables?**"
      ],
      "metadata": {
        "id": "dxmSR5W7U1vq"
      }
    },
    {
      "cell_type": "markdown",
      "source": [
        "Ans:  **Iterable:**\n",
        "An iterable is any object that can be iterated (looped) over, meaning you can use a for loop to go through its elements. An iterable is an object that implements the __iter__() method or the sequence-like __getitem__() method.\n",
        "\n",
        "Examples of iterables include lists, tuples, dictionaries, sets, strings, etc.\n",
        "\n",
        "2. **Iterator**:\n",
        "An iterator is an object that represents a stream of data, which you can loop through one element at a time. An iterator must implement two methods:\n",
        "\n",
        "__iter__(): Returns the iterator object itself.\n",
        "__next__(): Returns the next element in the sequence.\n",
        "Once an iterator has no more elements, calling __next__() raises a StopIteration exception.\n",
        "\n",
        "**Difference between Iterable and Iterator:**\n",
        "Iterable: Any object that can return an iterator (i.e., it has an __iter__() method).\n",
        "Iterator: An object that produces items from the iterable one at a time, using the __next__() method."
      ],
      "metadata": {
        "id": "w_mCMx5BU83A"
      }
    },
    {
      "cell_type": "code",
      "source": [
        "# An iterable (list)\n",
        "my_list = [1, 2, 3]\n",
        "\n",
        "# Get the iterator from the iterable\n",
        "my_iterator = iter(my_list)\n",
        "\n",
        "# Using next() to get elements from the iterator\n",
        "print(next(my_iterator))\n",
        "print(next(my_iterator))\n",
        "print(next(my_iterator))"
      ],
      "metadata": {
        "colab": {
          "base_uri": "https://localhost:8080/"
        },
        "id": "bajCGb5HViro",
        "outputId": "0005ef01-d69d-4c3b-fc37-efa415e7931e"
      },
      "execution_count": null,
      "outputs": [
        {
          "output_type": "stream",
          "name": "stdout",
          "text": [
            "1\n",
            "2\n",
            "3\n"
          ]
        }
      ]
    },
    {
      "cell_type": "markdown",
      "source": [
        "**Q6. Explain the concept of generators in Python and how they are defined.**"
      ],
      "metadata": {
        "id": "vRk7WrqNVyPN"
      }
    },
    {
      "cell_type": "markdown",
      "source": [
        "Ans: A generator in Python is a function that returns an iterator using the yield keyword. It generates values one at a time, which makes it memory-efficient.\n",
        "\n",
        "Key points:\n",
        "yield: Pauses the function and returns a value.\n",
        "Memory-efficient: Generates values lazily, without storing them all at once."
      ],
      "metadata": {
        "id": "w5sEEnClWiar"
      }
    },
    {
      "cell_type": "code",
      "source": [
        "def count_up_to(n):\n",
        "    count = 1\n",
        "    while count <= n:\n",
        "        yield count\n",
        "        count += 1\n",
        "\n",
        "counter = count_up_to(5)\n",
        "print(next(counter))\n",
        "print(next(counter))\n"
      ],
      "metadata": {
        "colab": {
          "base_uri": "https://localhost:8080/"
        },
        "id": "8-zkSC0zW2z5",
        "outputId": "03d8432e-216b-418d-fe16-7149af12b7eb"
      },
      "execution_count": null,
      "outputs": [
        {
          "output_type": "stream",
          "name": "stdout",
          "text": [
            "1\n",
            "2\n"
          ]
        }
      ]
    },
    {
      "cell_type": "markdown",
      "source": [
        "**Q7.What are the advantages of using generators over regular functions?**"
      ],
      "metadata": {
        "id": "V29TpoRhW85g"
      }
    },
    {
      "cell_type": "markdown",
      "source": [
        "Ans: **Memory Efficiency:**\n",
        "\n",
        "Generators produce values one at a time, so they don’t store all the values in memory. This is especially useful for handling large datasets or streams of data.\n",
        "Regular functions that return all values at once (e.g., with a list) can consume a lot of memory when dealing with large data.\n",
        "\n",
        "**Lazy Evaluation:**\n",
        "\n",
        "Generators evaluate values only when needed (lazy evaluation), which can improve performance, especially when you don’t need all the values at once.\n",
        "Regular functions with lists or other data structures will compute all values up front, even if they are not used.\n",
        "\n",
        "**Improved Performance for Large Data:**\n",
        "\n",
        "With generators, you avoid the overhead of creating and storing large data structures in memory."
      ],
      "metadata": {
        "id": "lcjXZRdvXNM4"
      }
    },
    {
      "cell_type": "code",
      "source": [
        "#example :Using a Regular Function (with a list):\n",
        "def create_range(n):\n",
        "    result = []\n",
        "    for i in range(n):\n",
        "        result.append(i)\n",
        "    return result\n",
        "\n",
        "# Calling the function\n",
        "numbers = create_range(1000000)\n",
        "print(numbers[:5])"
      ],
      "metadata": {
        "colab": {
          "base_uri": "https://localhost:8080/"
        },
        "id": "PcnXZBr2Xe2H",
        "outputId": "07ea30df-ba69-431d-a482-acea514ff879"
      },
      "execution_count": null,
      "outputs": [
        {
          "output_type": "stream",
          "name": "stdout",
          "text": [
            "[0, 1, 2, 3, 4]\n"
          ]
        }
      ]
    },
    {
      "cell_type": "code",
      "source": [
        "#example :Using a Generator:\n",
        "def create_range(n):\n",
        "    for i in range(n):\n",
        "        yield i\n",
        "\n",
        "# Calling the generator\n",
        "numbers = create_range(1000000)\n",
        "print(next(numbers))\n",
        "print(next(numbers))\n"
      ],
      "metadata": {
        "colab": {
          "base_uri": "https://localhost:8080/"
        },
        "id": "lD8BJkMNXnuC",
        "outputId": "198c3860-cde3-4f2a-fc61-37568f6a8849"
      },
      "execution_count": null,
      "outputs": [
        {
          "output_type": "stream",
          "name": "stdout",
          "text": [
            "0\n",
            "1\n"
          ]
        }
      ]
    },
    {
      "cell_type": "markdown",
      "source": [
        "**Q8.What is a lambda function in Python and when is it typically used?**"
      ],
      "metadata": {
        "id": "RZbYwtOlX6JX"
      }
    },
    {
      "cell_type": "markdown",
      "source": [
        "Ans: A lambda function is a small, anonymous function defined using the lambda keyword. It is typically used for simple operations that are needed temporarily, without the need to formally define a full function using def.\n",
        "\n",
        "is it used:\n",
        "\n",
        "In short, quick operations: When we need a simple function for a short period, like for use in higher-order functions (map(), filter(), sorted()), it's convenient to use lambda functions.\n",
        "For single-line functions: Lambda functions are usually used for simple operations like arithmetic or comparisons."
      ],
      "metadata": {
        "id": "Ye2WkN0dYDju"
      }
    },
    {
      "cell_type": "code",
      "source": [
        "add = lambda x, y: x + y\n",
        "print(add(3, 5))"
      ],
      "metadata": {
        "colab": {
          "base_uri": "https://localhost:8080/"
        },
        "id": "p3dWnbueYf4O",
        "outputId": "f6c0ab90-ee75-4d69-a38e-4a9ce5b077b3"
      },
      "execution_count": null,
      "outputs": [
        {
          "output_type": "stream",
          "name": "stdout",
          "text": [
            "8\n"
          ]
        }
      ]
    },
    {
      "cell_type": "markdown",
      "source": [
        "**Q9. Explain the purpose and usage of the `map()` function in Python.**"
      ],
      "metadata": {
        "id": "FKVcbXg6Y75p"
      }
    },
    {
      "cell_type": "markdown",
      "source": [
        "Ans: **Purpose of map() Function:**\n",
        "The map() function in Python is used to apply a function to every item in an iterable (like a list, tuple, etc.) and returns a map object (an iterator) that yields the results. It allows us to apply a function to each element of an iterable without needing to write an explicit loop.\n",
        "\n",
        "**Usage:**\n",
        "The map() function is commonly used for transforming data, like applying a mathematical operation or changing the format of elements in an iterable.\n",
        "\n"
      ],
      "metadata": {
        "id": "xLM5PpV5ZD0S"
      }
    },
    {
      "cell_type": "code",
      "source": [
        "numbers = [1, 2, 3, 4, 5]\n",
        "squared_numbers = map(lambda x: x ** 2, numbers)\n",
        "print(list(squared_numbers))"
      ],
      "metadata": {
        "colab": {
          "base_uri": "https://localhost:8080/"
        },
        "id": "OykpFeiyZpJV",
        "outputId": "b5255f4d-e6b7-4573-b0a8-1043882f385d"
      },
      "execution_count": null,
      "outputs": [
        {
          "output_type": "stream",
          "name": "stdout",
          "text": [
            "[1, 4, 9, 16, 25]\n"
          ]
        }
      ]
    },
    {
      "cell_type": "markdown",
      "source": [
        "**Q10. What is the difference between `map()`, `reduce()`, and `filter()` functions in Python?**"
      ],
      "metadata": {
        "id": "bfGfRSdnZxyi"
      }
    },
    {
      "cell_type": "markdown",
      "source": [
        "Ans:map():\n",
        "\n",
        "**Purpose:** Applies a function to each item in an iterable and returns a new iterable with the results.\n",
        "**Returns**: A map object (an iterator) that we can convert to a list or other iterable.   \n",
        "**Usage:** When we want to transform or modify each item in an iterable."
      ],
      "metadata": {
        "id": "xsFxuy9qaEOk"
      }
    },
    {
      "cell_type": "code",
      "source": [
        "numbers = [1, 2, 3, 4]\n",
        "squared_numbers = map(lambda x: x ** 2, numbers)\n",
        "print(list(squared_numbers))"
      ],
      "metadata": {
        "colab": {
          "base_uri": "https://localhost:8080/"
        },
        "id": "PlnvQds7ais2",
        "outputId": "e86b4485-ce6c-4958-ca46-e68f81c9b7a1"
      },
      "execution_count": null,
      "outputs": [
        {
          "output_type": "stream",
          "name": "stdout",
          "text": [
            "[1, 4, 9, 16]\n"
          ]
        }
      ]
    },
    {
      "cell_type": "markdown",
      "source": [
        "reduce():\n",
        "\n",
        "**Purpose:** Applies a function cumulatively to the items of an iterable (from left to right), reducing the iterable to a single value.\n",
        "\n",
        "**Returns:** A single value that results from applying the function cumulatively.\n",
        "\n",
        "**Usage:** When we want to reduce the iterable to a single result (e.g., summing or multiplying all elements)."
      ],
      "metadata": {
        "id": "_-85bsWYaoVX"
      }
    },
    {
      "cell_type": "code",
      "source": [
        "from functools import reduce\n",
        "\n",
        "numbers = [1, 2, 3, 4]\n",
        "result = reduce(lambda x, y: x + y, numbers)\n",
        "print(result)"
      ],
      "metadata": {
        "colab": {
          "base_uri": "https://localhost:8080/"
        },
        "id": "g-Op3Gioa-OW",
        "outputId": "f72f56d6-ef20-4e46-ae75-a85bf284f92b"
      },
      "execution_count": null,
      "outputs": [
        {
          "output_type": "stream",
          "name": "stdout",
          "text": [
            "10\n"
          ]
        }
      ]
    },
    {
      "cell_type": "markdown",
      "source": [
        "filter():\n",
        "\n",
        "**Purpose:** Filters elements from an iterable based on a function that returns True or False. Only items that return True are included in the result.\n",
        "\n",
        "**Returns:** A filter object (an iterator) with the filtered items.\n",
        "\n",
        "**Usage:** When you want to filter elements based on a condition."
      ],
      "metadata": {
        "id": "LTuA6BBNbH7C"
      }
    },
    {
      "cell_type": "code",
      "source": [
        "numbers = [1, 2, 3, 4, 5]\n",
        "even_numbers = filter(lambda x: x % 2 == 0, numbers)\n",
        "print(list(even_numbers))"
      ],
      "metadata": {
        "colab": {
          "base_uri": "https://localhost:8080/"
        },
        "id": "_s0WYl6Qb2r0",
        "outputId": "d0b110d9-76c7-435b-c24f-eeab92698f38"
      },
      "execution_count": null,
      "outputs": [
        {
          "output_type": "stream",
          "name": "stdout",
          "text": [
            "[2, 4]\n"
          ]
        }
      ]
    },
    {
      "cell_type": "markdown",
      "source": [
        "**Q11.Using pen & Paper write the internal mechanism for sum operation using  reduce function on this given**\n",
        "**list:[47,11,42,13]**"
      ],
      "metadata": {
        "id": "-OYhb4zkb5tx"
      }
    },
    {
      "cell_type": "markdown",
      "source": [
        "Ans: Attached this in drive folder names as\"Functions Ques 11.pdf\""
      ],
      "metadata": {
        "id": "9f1pkEVzrvEt"
      }
    },
    {
      "cell_type": "markdown",
      "source": [
        "**Practical Questions:**"
      ],
      "metadata": {
        "id": "39Y5z9axMn2P"
      }
    },
    {
      "cell_type": "markdown",
      "source": [
        "Q1.Write a Python function that takes a list of numbers as input and returns the sum of all even numbers in\n",
        "the list."
      ],
      "metadata": {
        "id": "J_jDRGRzNH25"
      }
    },
    {
      "cell_type": "code",
      "source": [
        "def sum_even_numbers(numbers):\n",
        "    total = 0\n",
        "    for num in numbers:\n",
        "        if num % 2 == 0:\n",
        "            total += num\n",
        "    return total\n",
        "\n",
        "# Example usage:\n",
        "numbers = [47, 11, 42, 13, 8, 30]\n",
        "result = sum_even_numbers(numbers)\n",
        "print(result)"
      ],
      "metadata": {
        "colab": {
          "base_uri": "https://localhost:8080/"
        },
        "id": "K-uxX5elNklD",
        "outputId": "a9b390b9-22ad-4991-f03c-43e561e53b36"
      },
      "execution_count": null,
      "outputs": [
        {
          "output_type": "stream",
          "name": "stdout",
          "text": [
            "80\n"
          ]
        }
      ]
    },
    {
      "cell_type": "markdown",
      "source": [
        "**Q2. Create a Python function that accepts a string and returns the reverse of that string.**"
      ],
      "metadata": {
        "id": "Qn3gSAE1NupH"
      }
    },
    {
      "cell_type": "code",
      "source": [
        "def reverse_string(s):\n",
        "    return s[::-1]\n",
        "\n",
        "# Example usage:\n",
        "input_string = \"hello\"\n",
        "reversed_string = reverse_string(input_string)\n",
        "print(reversed_string)"
      ],
      "metadata": {
        "colab": {
          "base_uri": "https://localhost:8080/"
        },
        "id": "dYjGTw5nN-6n",
        "outputId": "ece01834-76d6-498c-88b8-0285ff2b50c6"
      },
      "execution_count": null,
      "outputs": [
        {
          "output_type": "stream",
          "name": "stdout",
          "text": [
            "olleh\n"
          ]
        }
      ]
    },
    {
      "cell_type": "markdown",
      "source": [
        "**Q3.Implement a Python function that takes a list of i**ntegers and returns a new list containing the squares of\n",
        "each number."
      ],
      "metadata": {
        "id": "fCGPeye-OMA3"
      }
    },
    {
      "cell_type": "code",
      "source": [
        "def square_numbers(numbers):\n",
        "    return [num ** 2 for num in numbers]\n",
        "\n",
        "# Example usage:\n",
        "numbers = [1, 2, 3, 4, 5]\n",
        "squared_list = square_numbers(numbers)\n",
        "print(squared_list)"
      ],
      "metadata": {
        "colab": {
          "base_uri": "https://localhost:8080/"
        },
        "id": "F3eTKFsUOlJ-",
        "outputId": "b1760cbc-8490-4dc5-b643-a111706a4fe2"
      },
      "execution_count": null,
      "outputs": [
        {
          "output_type": "stream",
          "name": "stdout",
          "text": [
            "[1, 4, 9, 16, 25]\n"
          ]
        }
      ]
    },
    {
      "cell_type": "markdown",
      "source": [
        "**Q4.Write a Python function that checks if a given number is prime or not from 1 to 200.**"
      ],
      "metadata": {
        "id": "RA-XNMZaOzGQ"
      }
    },
    {
      "cell_type": "code",
      "source": [
        "def is_prime(n):\n",
        "    if n <= 1:\n",
        "        return False  # 0 and 1 are not prime numbers\n",
        "    for i in range(2, int(n ** 0.5) + 1):  # Check divisibility up to the square root of n\n",
        "        if n % i == 0:\n",
        "            return False  # n is divisible by i, so it's not prime\n",
        "    return True  # n is prime if no divisors were found\n",
        "\n",
        "# Example usage: Check primes from 1 to 200\n",
        "prime_numbers = [n for n in range(1, 201) if is_prime(n)]\n",
        "print(prime_numbers)"
      ],
      "metadata": {
        "colab": {
          "base_uri": "https://localhost:8080/"
        },
        "id": "s0KHWmO6O7iK",
        "outputId": "2c7ba5d5-3b0b-4928-976d-450d4bf6c357"
      },
      "execution_count": null,
      "outputs": [
        {
          "output_type": "stream",
          "name": "stdout",
          "text": [
            "[2, 3, 5, 7, 11, 13, 17, 19, 23, 29, 31, 37, 41, 43, 47, 53, 59, 61, 67, 71, 73, 79, 83, 89, 97, 101, 103, 107, 109, 113, 127, 131, 137, 139, 149, 151, 157, 163, 167, 173, 179, 181, 191, 193, 197, 199]\n"
          ]
        }
      ]
    },
    {
      "cell_type": "markdown",
      "source": [
        "**Q5**.**Create an iterator class in Python that generates the Fibonacci sequence up to a specified number of terms**"
      ],
      "metadata": {
        "id": "Y1f5CiZNPHWt"
      }
    },
    {
      "cell_type": "markdown",
      "source": [
        "Ans:To create an iterator class in Python that generates the Fibonacci sequence up to a specified number of terms, we need to define a class with the following components:\n",
        "\n",
        "__init__: This method will initialize the number of terms (or limit) for the Fibonacci sequence.\n",
        "__iter__: This method will return the iterator object itself.\n",
        "__next__: This method will return the next Fibonacci number in the sequence each time it is called. It will also handle the termination of the sequence once the specified number of terms is reached."
      ],
      "metadata": {
        "id": "JnyHZLDcr5lN"
      }
    },
    {
      "cell_type": "code",
      "source": [
        "class FibonacciIterator:\n",
        "    def __init__(self, terms):\n",
        "        self.terms = terms  # Total number of terms to generate\n",
        "        self.count = 0      # Counter for the number of terms generated\n",
        "        self.a, self.b = 0, 1  # Starting values for Fibonacci sequence\n",
        "\n",
        "    def __iter__(self):\n",
        "        return self  # Return the iterator object itself\n",
        "\n",
        "    def __next__(self):\n",
        "        if self.count < self.terms:\n",
        "            result = self.a\n",
        "            self.a, self.b = self.b, self.a + self.b  # Update to the next Fibonacci numbers\n",
        "            self.count += 1\n",
        "            return result\n",
        "        else:\n",
        "            raise StopIteration  # Stop the iteration when the limit is reached\n",
        "\n",
        "# Example usage:\n",
        "fib = FibonacciIterator(10)  # Generate first 10 Fibonacci numbers\n",
        "for num in fib:\n",
        "    print(num)\n"
      ],
      "metadata": {
        "colab": {
          "base_uri": "https://localhost:8080/"
        },
        "id": "utMOwaWGPxuH",
        "outputId": "58c7d1d3-19fd-4613-85b1-2f149dac3b8e"
      },
      "execution_count": null,
      "outputs": [
        {
          "output_type": "stream",
          "name": "stdout",
          "text": [
            "0\n",
            "1\n",
            "1\n",
            "2\n",
            "3\n",
            "5\n",
            "8\n",
            "13\n",
            "21\n",
            "34\n"
          ]
        }
      ]
    },
    {
      "cell_type": "markdown",
      "source": [
        "**Q6. Write a generator function in Python that yields the powers of 2 up to a given exponent.**"
      ],
      "metadata": {
        "id": "kynn1GnQP4Ax"
      }
    },
    {
      "cell_type": "code",
      "source": [
        "def powers_of_two(exponent):\n",
        "    for i in range(exponent + 1):\n",
        "        yield 2 ** i\n",
        "\n",
        "# Example usage:\n",
        "for power in powers_of_two(5):\n",
        "    print(power)\n"
      ],
      "metadata": {
        "colab": {
          "base_uri": "https://localhost:8080/"
        },
        "id": "SWspUPfkQF9A",
        "outputId": "167693ce-e12f-4ad2-9962-511c5980a347"
      },
      "execution_count": null,
      "outputs": [
        {
          "output_type": "stream",
          "name": "stdout",
          "text": [
            "1\n",
            "2\n",
            "4\n",
            "8\n",
            "16\n",
            "32\n"
          ]
        }
      ]
    },
    {
      "cell_type": "markdown",
      "source": [
        "**Q7.Implement a generator function that reads a file line by line and yields each line as a string.**"
      ],
      "metadata": {
        "id": "KkF_S6HrQJQo"
      }
    },
    {
      "cell_type": "code",
      "source": [
        "def read_file_line_by_line(file_path):\n",
        "    with open(file_path, 'r') as file:\n",
        "        for line in file:\n",
        "            yield line.strip()  # strip to remove any trailing newlines or spaces\n",
        "\n"
      ],
      "metadata": {
        "id": "cxRMKm68QQ0e"
      },
      "execution_count": null,
      "outputs": []
    },
    {
      "cell_type": "code",
      "source": [
        "for line in read_file_line_by_line('jarin.txt'):\n",
        "    print(line)\n"
      ],
      "metadata": {
        "colab": {
          "base_uri": "https://localhost:8080/"
        },
        "id": "WnZ-XXxpRx-k",
        "outputId": "d9ad2862-405b-44b2-c10a-6fd5213b134b"
      },
      "execution_count": null,
      "outputs": [
        {
          "output_type": "stream",
          "name": "stdout",
          "text": [
            "Hello, world!\n",
            "This is a test file.\n",
            "Python is awesome!\n"
          ]
        }
      ]
    },
    {
      "cell_type": "code",
      "source": [
        "from google.colab import drive\n",
        "drive.mount('/content/drive')"
      ],
      "metadata": {
        "id": "DAyWJz4uocQS"
      },
      "execution_count": null,
      "outputs": []
    },
    {
      "cell_type": "markdown",
      "source": [
        "**Q8. Use a lambda function in Python to sort a list of tuples based on the second element of each tuple.**"
      ],
      "metadata": {
        "id": "cnUv2AosXVPT"
      }
    },
    {
      "cell_type": "code",
      "source": [
        "# List of tuples\n",
        "tuples = [(1, 3), (4, 1), (5, 2), (2, 4)]\n",
        "\n",
        "# Sorting based on the second element of each tuple using lambda\n",
        "sorted_tuples = sorted(tuples, key=lambda x: x[1])\n",
        "\n",
        "# Printing the sorted list of tuples\n",
        "print(sorted_tuples)"
      ],
      "metadata": {
        "colab": {
          "base_uri": "https://localhost:8080/"
        },
        "id": "QNaMJU9zXi_g",
        "outputId": "fdd05da9-4b87-46ac-bc22-3ec06e3faac5"
      },
      "execution_count": null,
      "outputs": [
        {
          "output_type": "stream",
          "name": "stdout",
          "text": [
            "[(4, 1), (5, 2), (1, 3), (2, 4)]\n"
          ]
        }
      ]
    },
    {
      "cell_type": "markdown",
      "source": [
        "**Q9. Write a Python program that uses `map()` to convert a list of temperatures from Celsius to Fahrenheit.**"
      ],
      "metadata": {
        "id": "5ozKT0HUXr3h"
      }
    },
    {
      "cell_type": "code",
      "source": [
        "# List of temperatures in Celsius\n",
        "celsius_temperatures = [0, 20, 30, 40, 100]\n",
        "\n",
        "# Function to convert Celsius to Fahrenheit\n",
        "def celsius_to_fahrenheit(celsius):\n",
        "    return (9/5) * celsius + 32\n",
        "\n",
        "# Using map() to apply the conversion to each temperature in the list\n",
        "fahrenheit_temperatures = list(map(celsius_to_fahrenheit, celsius_temperatures))\n",
        "\n",
        "# Printing the list of temperatures in Fahrenheit\n",
        "print(fahrenheit_temperatures)"
      ],
      "metadata": {
        "colab": {
          "base_uri": "https://localhost:8080/"
        },
        "id": "LNGjQjgTX0yk",
        "outputId": "01d60f6b-b2fd-4191-a7bf-4401a4ce3dc8"
      },
      "execution_count": null,
      "outputs": [
        {
          "output_type": "stream",
          "name": "stdout",
          "text": [
            "[32.0, 68.0, 86.0, 104.0, 212.0]\n"
          ]
        }
      ]
    },
    {
      "cell_type": "markdown",
      "source": [
        "**Q10.Create a Python program that uses `filter()` to remove all the vowels from a given string.**"
      ],
      "metadata": {
        "id": "be0gzUbhX8r0"
      }
    },
    {
      "cell_type": "code",
      "source": [
        "# Function to check if a character is not a vowel\n",
        "def is_not_vowel(char):\n",
        "    return char.lower() not in 'aeiou'\n",
        "\n",
        "# Given string\n",
        "input_string = \"Hello World\"\n",
        "\n",
        "# Using filter() to remove vowels from the string\n",
        "filtered_string = ''.join(filter(is_not_vowel, input_string))\n",
        "\n",
        "# Printing the result\n",
        "print(filtered_string)"
      ],
      "metadata": {
        "colab": {
          "base_uri": "https://localhost:8080/"
        },
        "id": "9z_nH2avYB56",
        "outputId": "f4a414e3-8db1-45ac-be57-25af2ad0239f"
      },
      "execution_count": null,
      "outputs": [
        {
          "output_type": "stream",
          "name": "stdout",
          "text": [
            "Hll Wrld\n"
          ]
        }
      ]
    },
    {
      "cell_type": "markdown",
      "source": [
        "**Q11.Imagine an accounting routine used in a book shop. It works on a list with sublists, which look like this:**\n",
        "\n",
        " Order Number  Book Title       Author    Quantity  Price per Item\n",
        "    34587     Learning Python, Mark Lutz     4            40.95\n",
        "    98762     Programming Python, Mark Lutz  5            56.80\n",
        "    77226     Head First Python, Paul Barry  3            32.95\n",
        "    88112     Einführung in Python3,Bernd Klein  3       24.99\n",
        "\n",
        "Write a Python program, which returns a list with 2-tuples. Each tuple consists of the order number and the\n",
        "product of the price per item and the quantity. The product should be increased by 10,- € if the value of the\n",
        "order is smaller than 100,00 €.\n",
        "\n",
        "Write a Python program using lambda and map.\n"
      ],
      "metadata": {
        "id": "S56TTvmxYMOF"
      }
    },
    {
      "cell_type": "code",
      "source": [
        "order = [[34587,'Learning Python','Mark Lutz',4,40.95],\n",
        "         [98762,'Programming Python','Mark Lutz',5,56.80],\n",
        "         [77226,'Head First Python','Paul Barry',3,32.95],\n",
        "         [88112,'Einführung in Python3','Bernd Klein',3,24.99]\n",
        "        ]\n",
        "\n",
        "#without using lambda,map,list comprehension\n",
        "\n",
        "lists = []\n",
        "for item in order:\n",
        "    if item[-1]*item[-2] < 100:\n",
        "        lists.append((item[0],item[-1]*item[-2]+10))\n",
        "    else:\n",
        "        lists.append((item[0],item[-1]*item[-2]))\n",
        "\n",
        "print(\"Order Summary: \",lists)\n",
        "\n",
        "\n",
        "\n",
        "\n",
        "\n",
        "#with using lambda and map\n",
        "print(\"Order Summary: \",list(map(lambda x: (x[0],x[-1]) if x[-1]*x[-2] > 100 else x[-1]*x[-2]+10, order)))\n",
        "\n",
        "\n",
        "#with using list comprehension\n",
        "print(\"Order Summary: \",[(item[0],item[-1]) if item[-1]*item[-2] > 100 else (item[0],item[-1]*item[-2]+10) for item in order])"
      ],
      "metadata": {
        "colab": {
          "base_uri": "https://localhost:8080/"
        },
        "id": "CxniPzrkZQiA",
        "outputId": "b6f13e98-bd4a-448b-8615-f1ae803762d3"
      },
      "execution_count": 1,
      "outputs": [
        {
          "output_type": "stream",
          "name": "stdout",
          "text": [
            "Order Summary:  [(34587, 163.8), (98762, 284.0), (77226, 108.85000000000001), (88112, 84.97)]\n",
            "Order Summary:  [(34587, 40.95), (98762, 56.8), 108.85000000000001, 84.97]\n",
            "Order Summary:  [(34587, 40.95), (98762, 56.8), (77226, 108.85000000000001), (88112, 84.97)]\n"
          ]
        }
      ]
    }
  ]
}